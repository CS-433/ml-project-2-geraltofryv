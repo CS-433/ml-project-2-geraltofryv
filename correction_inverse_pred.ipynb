{
 "cells": [
  {
   "cell_type": "code",
   "execution_count": 6,
   "metadata": {},
   "outputs": [],
   "source": [
    "from PIL import Image\n",
    "import os\n",
    "import re\n",
    "import numpy as np\n",
    "import matplotlib.pyplot as plt\n",
    "import torch\n",
    "import cv2\n",
    "\n",
    "from segment import segment\n"
   ]
  },
  {
   "cell_type": "code",
   "execution_count": 52,
   "metadata": {},
   "outputs": [],
   "source": [
    "LEARNING_RATE = 1e-4\n",
    "#DEVICE = \"cpu\"\n",
    "DEVICE = \"cuda\" if torch.cuda.is_available() else \"cpu\"\n",
    "BATCH_SIZE = 3\n",
    "NUM_EPOCHS = 2\n",
    "NUM_WORKERS = 2\n",
    "IMAGE_HEIGHT = 256  # 1280 originally\n",
    "IMAGE_WIDTH = 256  # 1918 originally\n",
    "PIN_MEMORY = True\n",
    "LOAD_MODEL = False\n",
    "TRAIN_IMG_DIR = \"dtsub/train_input/\"\n",
    "TRAIN_MASK_DIR = \"dtsub/train_mask/\"\n",
    "VAL_IMG_DIR = \"dtsub/val_input/\"\n",
    "VAL_MASK_DIR = \"dtsub/val_mask/\"\n",
    "RES_DIR = \"result/\"\n",
    "GROUPBY_list = [3,5]\n",
    "PAD_VALUE = 0\n",
    "NUM_CLASS = 2\n",
    "IGNORE_INDEX = -1\n",
    "DISPLAY_STEP = 50\n",
    "VAL_EVERY = 1\n",
    "VAL_AFTER = 0\n",
    "ALL_MASK_list = [list(range(gp)) for gp in GROUPBY_list]\n",
    "MODEL_PTH_SAVE_list = []\n",
    "FOLD_GROUPBY_list = []\n",
    "for i, gp in enumerate(GROUPBY_list):\n",
    "    tmp = []\n",
    "    FOLD_GROUPBY_list.append(f'Groupby_{gp}_result')\n",
    "    for ms in ALL_MASK_list[i]: \n",
    "        tmp.append(f\"model_groupby_{gp}_maskpos_{ms}.pth.tar\")\n",
    "    \n",
    "\n",
    "    MODEL_PTH_SAVE_list.append(tmp)"
   ]
  },
  {
   "cell_type": "code",
   "execution_count": null,
   "metadata": {},
   "outputs": [],
   "source": []
  },
  {
   "cell_type": "code",
   "execution_count": 51,
   "metadata": {},
   "outputs": [
    {
     "data": {
      "text/plain": [
       "['Groupby_3_result', 'Groupby_5_result']"
      ]
     },
     "execution_count": 51,
     "metadata": {},
     "output_type": "execute_result"
    }
   ],
   "source": [
    "MODEL_PTH_SAVE_list = []\n",
    "FOLD_GROUPBY_list = []\n",
    "for i, gp in enumerate(GROUPBY_list):\n",
    "    tmp = []\n",
    "    FOLD_GROUPBY_list.append(f'Groupby_{gp}_result')\n",
    "    for ms in ALL_MASK_list[i]: \n",
    "        tmp.append(f\"model_groupby_{gp}_maskpos_{ms}.pth.tar\")\n",
    "    \n",
    "\n",
    "FOLD_GROUPBY_list"
   ]
  },
  {
   "cell_type": "code",
   "execution_count": 42,
   "metadata": {},
   "outputs": [
    {
     "data": {
      "text/plain": [
       "[['model_groupby_3_maskpos_0.pth.tar',\n",
       "  'model_groupby_3_maskpos_1.pth.tar',\n",
       "  'model_groupby_3_maskpos_2.pth.tar'],\n",
       " ['model_groupby_5_maskpos_0.pth.tar',\n",
       "  'model_groupby_5_maskpos_1.pth.tar',\n",
       "  'model_groupby_5_maskpos_2.pth.tar',\n",
       "  'model_groupby_5_maskpos_3.pth.tar',\n",
       "  'model_groupby_5_maskpos_4.pth.tar'],\n",
       " ['model_groupby_7_maskpos_0.pth.tar',\n",
       "  'model_groupby_7_maskpos_1.pth.tar',\n",
       "  'model_groupby_7_maskpos_2.pth.tar',\n",
       "  'model_groupby_7_maskpos_3.pth.tar',\n",
       "  'model_groupby_7_maskpos_4.pth.tar',\n",
       "  'model_groupby_7_maskpos_5.pth.tar',\n",
       "  'model_groupby_7_maskpos_6.pth.tar'],\n",
       " ['model_groupby_9_maskpos_0.pth.tar',\n",
       "  'model_groupby_9_maskpos_1.pth.tar',\n",
       "  'model_groupby_9_maskpos_2.pth.tar',\n",
       "  'model_groupby_9_maskpos_3.pth.tar',\n",
       "  'model_groupby_9_maskpos_4.pth.tar',\n",
       "  'model_groupby_9_maskpos_5.pth.tar',\n",
       "  'model_groupby_9_maskpos_6.pth.tar',\n",
       "  'model_groupby_9_maskpos_7.pth.tar',\n",
       "  'model_groupby_9_maskpos_8.pth.tar'],\n",
       " ['model_groupby_11_maskpos_0.pth.tar',\n",
       "  'model_groupby_11_maskpos_1.pth.tar',\n",
       "  'model_groupby_11_maskpos_2.pth.tar',\n",
       "  'model_groupby_11_maskpos_3.pth.tar',\n",
       "  'model_groupby_11_maskpos_4.pth.tar',\n",
       "  'model_groupby_11_maskpos_5.pth.tar',\n",
       "  'model_groupby_11_maskpos_6.pth.tar',\n",
       "  'model_groupby_11_maskpos_7.pth.tar',\n",
       "  'model_groupby_11_maskpos_8.pth.tar',\n",
       "  'model_groupby_11_maskpos_9.pth.tar',\n",
       "  'model_groupby_11_maskpos_10.pth.tar']]"
      ]
     },
     "execution_count": 42,
     "metadata": {},
     "output_type": "execute_result"
    }
   ],
   "source": [
    "MODEL_PTH_SAVE_list"
   ]
  },
  {
   "cell_type": "code",
   "execution_count": 49,
   "metadata": {},
   "outputs": [
    {
     "name": "stdout",
     "output_type": "stream",
     "text": [
      "The new directory is created!\n",
      "The new directory is created!\n",
      "The new directory is created!\n",
      "The new directory is created!\n",
      "The new directory is created!\n"
     ]
    }
   ],
   "source": [
    "import os\n",
    "path = \"petit_test/\"\n",
    "for fold in FOLD_GROUPBY_list:\n",
    "\n",
    "    # Check whether the specified path exists or not\n",
    "    directory = os.path.join(path,fold)\n",
    "    isExist = os.path.exists(directory)\n",
    "    if not isExist:\n",
    "\n",
    "   # Create a new directory because it does not exist\n",
    "        os.makedirs(directory)\n",
    "        print(\"The new directory is created!\")"
   ]
  },
  {
   "cell_type": "code",
   "execution_count": 53,
   "metadata": {},
   "outputs": [
    {
     "name": "stdout",
     "output_type": "stream",
     "text": [
      "Groupby :  3 Groupby_3_result\n",
      "Mask pos:  0 model_groupby_3_maskpos_0.pth.tar\n",
      "Mask pos:  1 model_groupby_3_maskpos_1.pth.tar\n",
      "Mask pos:  2 model_groupby_3_maskpos_2.pth.tar\n",
      "Groupby :  5 Groupby_5_result\n",
      "Mask pos:  0 model_groupby_5_maskpos_0.pth.tar\n",
      "Mask pos:  1 model_groupby_5_maskpos_1.pth.tar\n",
      "Mask pos:  2 model_groupby_5_maskpos_2.pth.tar\n",
      "Mask pos:  3 model_groupby_5_maskpos_3.pth.tar\n",
      "Mask pos:  4 model_groupby_5_maskpos_4.pth.tar\n"
     ]
    }
   ],
   "source": [
    "for p, GROUPBY in enumerate(GROUPBY_list):\n",
    "    FOLD_GROUPBY = FOLD_GROUPBY_list[p]\n",
    "    print(\"Groupby : \", GROUPBY, FOLD_GROUPBY)\n",
    "\n",
    "    for m, MASK_POS in enumerate(ALL_MASK_list[p]):\n",
    "        MODEL_PTH_SAVE = MODEL_PTH_SAVE_list[p][m]\n",
    "        print(\"Mask pos: \", MASK_POS, MODEL_PTH_SAVE )"
   ]
  },
  {
   "cell_type": "code",
   "execution_count": 2,
   "metadata": {},
   "outputs": [],
   "source": [
    "path_pred0 = r'processing_im/set_0_time_27_mask.png'\n"
   ]
  },
  {
   "cell_type": "code",
   "execution_count": 3,
   "metadata": {},
   "outputs": [
    {
     "data": {
      "text/plain": [
       "<matplotlib.image.AxesImage at 0x13845f03e20>"
      ]
     },
     "execution_count": 3,
     "metadata": {},
     "output_type": "execute_result"
    },
    {
     "data": {
      "image/png": "[encoded data removed]",
      "text/plain": [
       "<Figure size 640x480 with 1 Axes>"
      ]
     },
     "metadata": {},
     "output_type": "display_data"
    }
   ],
   "source": [
    "path_pred0 = r'processing_im/pred_0.png'\n",
    "pred = Image.open(path_pred0).convert('L')\n",
    "pred_arr = np.array(pred, dtype=np.float32)\n",
    "pred_arr\n",
    "plt.imshow(pred_arr,cmap='gray',vmin=0,vmax=1)"
   ]
  },
  {
   "cell_type": "code",
   "execution_count": 12,
   "metadata": {},
   "outputs": [
    {
     "data": {
      "text/plain": [
       "255"
      ]
     },
     "execution_count": 12,
     "metadata": {},
     "output_type": "execute_result"
    }
   ],
   "source": [
    "img[250,250]"
   ]
  },
  {
   "cell_type": "code",
   "execution_count": 10,
   "metadata": {},
   "outputs": [],
   "source": [
    "img = cv2.imread(path_pred0)\n",
    "img = cv2.cvtColor(img,cv2.COLOR_BGR2GRAY)\n",
    "cv2.imshow('img', img)\n",
    "# waits for user to press any key\n",
    "cv2.waitKey(0)\n",
    "  \n",
    "# closing all open windows\n",
    "cv2.destroyAllWindows()"
   ]
  },
  {
   "cell_type": "code",
   "execution_count": 4,
   "metadata": {},
   "outputs": [
    {
     "data": {
      "text/plain": [
       "torch.Size([518, 2066])"
      ]
     },
     "execution_count": 4,
     "metadata": {},
     "output_type": "execute_result"
    }
   ],
   "source": [
    "import torchvision\n",
    "mask_torch = torch.from_numpy(pred_arr).float()\n",
    "mask_torch.shape\n",
    "#preds = torchvision.transforms.functional.invert(mask_torch)"
   ]
  },
  {
   "cell_type": "code",
   "execution_count": 15,
   "metadata": {},
   "outputs": [
    {
     "data": {
      "text/plain": [
       "torch.Size([518])"
      ]
     },
     "execution_count": 15,
     "metadata": {},
     "output_type": "execute_result"
    }
   ],
   "source": []
  }
 ],
 "metadata": {
  "kernelspec": {
   "display_name": "cnn_pano",
   "language": "python",
   "name": "python3"
  },
  "language_info": {
   "codemirror_mode": {
    "name": "ipython",
    "version": 3
   },
   "file_extension": ".py",
   "mimetype": "text/x-python",
   "name": "python",
   "nbconvert_exporter": "python",
   "pygments_lexer": "ipython3",
   "version": "3.10.8"
  },
  "orig_nbformat": 4,
  "vscode": {
   "interpreter": {
    "hash": "aad772d618d36228fd9f9cbf1974a5c1146643a9a7401f485569cf353c06f143"
   }
  }
 },
 "nbformat": 4,
 "nbformat_minor": 2
}
