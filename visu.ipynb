{
 "cells": [
  {
   "cell_type": "code",
   "execution_count": 39,
   "metadata": {},
   "outputs": [],
   "source": [
    "#Fill these file paths with the locations on your machine. \n",
    "PATH_TO_CODE = r'C:\\Projet_MA1\\ML_projet_CNN\\projet_cnn'  # path to the code folder of the repo\n",
    "PATH_TO_IN = r'C:\\Projet_MA1\\ML_projet_CNN\\projet_cnn\\data_sub\\train_input'\n",
    "PATH_TO_MASK = r'C:\\Projet_MA1\\ML_projet_CNN\\projet_cnn\\data_sub\\train_mask'\n",
    "\n",
    "\n",
    "\n",
    "import sys\n",
    "sys.path.append(PATH_TO_CODE)\n",
    "\n",
    "\n",
    "import torch\n",
    "import numpy as np\n",
    "import matplotlib.pyplot as plt\n",
    "from matplotlib.colors import ListedColormap\n",
    "import matplotlib\n",
    "import os\n",
    "\n",
    "cm = matplotlib.cm.get_cmap('tab20')\n",
    "def_colors = cm.colors\n",
    "cus_colors = ['k'] + [def_colors[i] for i in range(1,20)]+['w']\n",
    "cmap = ListedColormap(colors = cus_colors, name='agri',N=21)\n",
    "\n",
    "def get_rgb(x, batch_index=0, t_show=1):\n",
    "    \"\"\"Utility function to get a displayable rgb image \n",
    "    from a Sentinel-2 time series.\n",
    "    \"\"\"\n",
    "    im = x['S2'][batch_index, t_show, [2,1,0]].cpu().numpy()\n",
    "    mx = im.max(axis=(1,2))\n",
    "    mi = im.min(axis=(1,2))   \n",
    "    im = (im - mi[:,None,None])/(mx - mi)[:,None,None]\n",
    "    im = im.swapaxes(0,2).swapaxes(0,1)\n",
    "    im = np.clip(im, a_max=1, a_min=0)\n",
    "    return im\n",
    "\n",
    "def get_radar(x, batch_index=0, t_show=6, orbit='D'):\n",
    "    \"\"\"Utility function to get a displayable image \n",
    "    from a Sentinel-1 time series.\n",
    "    \"\"\"\n",
    "    im = x['S1{}'.format(orbit)][batch_index, t_show].cpu().numpy()\n",
    "    mx = im.max(axis=(1,2))\n",
    "    mi = im.min(axis=(1,2))   \n",
    "    im = (im - mi[:,None,None])/(mx - mi)[:,None,None]\n",
    "    im = im.swapaxes(0,2).swapaxes(0,1)\n",
    "    im = np.clip(im, a_max=1, a_min=0)\n",
    "    return im"
   ]
  },
  {
   "cell_type": "code",
   "execution_count": 33,
   "metadata": {},
   "outputs": [],
   "source": [
    "from dataset import YeastDataset\n",
    "\n",
    "\n",
    "dt = YeastDataset(PATH_TO_IN,PATH_TO_MASK)\n",
    "# If you only need to evaluate semantic segmentation use target='semantic'\n",
    "\n",
    "dl = torch.utils.data.DataLoader(dt, batch_size=9, shuffle=True)"
   ]
  },
  {
   "cell_type": "code",
   "execution_count": 34,
   "metadata": {},
   "outputs": [
    {
     "name": "stdout",
     "output_type": "stream",
     "text": [
      "torch.Size([4, 3, 3, 256, 256])\n",
      "torch.Size([4, 3])\n",
      "torch.Size([4, 256, 256])\n",
      "torch.Size([256, 256])\n"
     ]
    }
   ],
   "source": [
    "(x, dates), y = dl.__iter__().__next__()\n",
    "print(x.shape)\n",
    "print(dates.shape)\n",
    "print(y.shape)\n",
    "print(y[0].shape)"
   ]
  },
  {
   "cell_type": "code",
   "execution_count": 38,
   "metadata": {},
   "outputs": [
    {
     "data": {
      "text/plain": [
       "<matplotlib.image.AxesImage at 0x2586454acb0>"
      ]
     },
     "execution_count": 38,
     "metadata": {},
     "output_type": "execute_result"
    },
    {
     "data": {
      "image/png": "[encoded data removed]",
      "text/plain": [
       "<Figure size 640x480 with 1 Axes>"
      ]
     },
     "metadata": {},
     "output_type": "display_data"
    }
   ],
   "source": [
    "plt.imshow(y[3])"
   ]
  },
  {
   "cell_type": "code",
   "execution_count": 40,
   "metadata": {},
   "outputs": [
    {
     "data": {
      "text/plain": [
       "<All keys matched successfully>"
      ]
     },
     "execution_count": 40,
     "metadata": {},
     "output_type": "execute_result"
    }
   ],
   "source": [
    "from model import UTAE\n",
    "from weight_init import weight_init\n",
    "device = torch.device('cpu')\n",
    "model = UTAE(input_dim=3).to(device)\n",
    "model.apply(weight_init)\n",
    "\n",
    "model.load_state_dict(\n",
    "            torch.load(\n",
    "                os.path.join(\n",
    "                    \"result/\" , \"model.pth.tar\"\n",
    "                )\n",
    "            )[\"state_dict\"]\n",
    "        )"
   ]
  },
  {
   "cell_type": "code",
   "execution_count": null,
   "metadata": {},
   "outputs": [],
   "source": [
    "model.eval()\n"
   ]
  }
 ],
 "metadata": {
  "kernelspec": {
   "display_name": "Python 3.10.8 ('new-ml-proj-2')",
   "language": "python",
   "name": "python3"
  },
  "language_info": {
   "codemirror_mode": {
    "name": "ipython",
    "version": 3
   },
   "file_extension": ".py",
   "mimetype": "text/x-python",
   "name": "python",
   "nbconvert_exporter": "python",
   "pygments_lexer": "ipython3",
   "version": "3.10.8"
  },
  "orig_nbformat": 4,
  "vscode": {
   "interpreter": {
    "hash": "2300660a29eab5d84c767ac35b02fc401746a36e825caa44693004bb0010abf0"
   }
  }
 },
 "nbformat": 4,
 "nbformat_minor": 2
}
