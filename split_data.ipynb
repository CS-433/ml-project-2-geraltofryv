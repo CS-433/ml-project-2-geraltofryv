{
 "cells": [
  {
   "cell_type": "code",
   "execution_count": 1,
   "metadata": {},
   "outputs": [
    {
     "name": "stderr",
     "output_type": "stream",
     "text": [
      "c:\\Users\\jam-y\\anaconda3\\envs\\cnn_pano\\lib\\site-packages\\tqdm\\auto.py:22: TqdmWarning: IProgress not found. Please update jupyter and ipywidgets. See https://ipywidgets.readthedocs.io/en/stable/user_install.html\n",
      "  from .autonotebook import tqdm as notebook_tqdm\n"
     ]
    }
   ],
   "source": [
    "import tifffile\n",
    "import matplotlib.pyplot as plt\n",
    "import os\n",
    "import numpy as np\n",
    "import torch\n",
    "import torch.utils.data as data\n",
    "import torchnet as tnt\n",
    "import time\n",
    "import cv2\n",
    "import pandas as pd\n",
    "from torchvision.datasets import ImageFolder\n",
    "import torchvision.transforms as transforms\n",
    "from torchvision.transforms import ToTensor\n",
    "from PIL import Image\n",
    "import matplotlib.image"
   ]
  },
  {
   "cell_type": "markdown",
   "metadata": {},
   "source": [
    "# Take .tif file and convert them to .jpeg file and store them to a new folder name 'dataset'"
   ]
  },
  {
   "cell_type": "code",
   "execution_count": 2,
   "metadata": {},
   "outputs": [],
   "source": [
    "directory = os.getcwd()\n",
    "goal_dir = os.path.join(os.getcwd(), \"cropped\")\n",
    "PATH_DATA = os.path.abspath(goal_dir)\n",
    "content_name = os.listdir(PATH_DATA)\n",
    "input_data_name = [t for t in content_name if t.endswith('im.tif')]\n",
    "output_mask_name = [t for t in content_name if t.endswith('mask.tif')]\n",
    "\n",
    "data = [tifffile.TiffFile(os.path.abspath(os.path.join(PATH_DATA, t))) for t in input_data_name]\n",
    "mask = [tifffile.TiffFile(os.path.abspath(os.path.join(PATH_DATA, t))) for t in output_mask_name]"
   ]
  },
  {
   "cell_type": "markdown",
   "metadata": {},
   "source": [
    "create the folder 'dataset' where all the new images is gonna be store"
   ]
  },
  {
   "cell_type": "code",
   "execution_count": 3,
   "metadata": {},
   "outputs": [
    {
     "name": "stdout",
     "output_type": "stream",
     "text": [
      "The new directory is created!\n",
      "The new directory is created!\n"
     ]
    }
   ],
   "source": [
    "folder_data = \"miel\"\n",
    "# Check whether the specified path exists or not\n",
    "path_dataset = os.path.join(os.getcwd(), folder_data)\n",
    "isExist = os.path.exists(path_dataset)\n",
    "if not isExist:\n",
    "\n",
    "   # Create a new directory because it does not exist\n",
    "   os.makedirs(path_dataset)\n",
    "   print(\"The new directory is created!\")\n",
    "\n",
    "cat = ['input', 'mask']\n",
    "for i , fold in enumerate(cat):\n",
    "    path_images = os.path.join(path_dataset, fold)\n",
    "    isExist = os.path.exists(path_images)\n",
    "    if not isExist:\n",
    "        os.makedirs(path_images)\n",
    "        print(\"The new directory is created!\")\n"
   ]
  },
  {
   "cell_type": "code",
   "execution_count": 5,
   "metadata": {},
   "outputs": [],
   "source": [
    "for i, file in enumerate(data):\n",
    "    for j in range(len(file.pages)):\n",
    "        path_input = os.path.join(path_dataset, cat[0])\n",
    "        path_mask = os.path.join(path_dataset, cat[1])\n",
    "        path_image_input = f'set_{i}_time_{j}_{cat[0]}.png'\n",
    "        path_image_mask = f'set_{i}_time_{j}_{cat[1]}.png'\n",
    "        #print(file.pages[j].asarray().astype(np.float32).dtype)\n",
    "        mask_arr = mask[i].pages[j].asarray().astype(np.float32)\n",
    "        mask_arr[mask_arr != 0] = 1\n",
    "        \n",
    "        matplotlib.image.imsave(os.path.join(path_mask, path_image_mask), mask_arr)\n",
    "        matplotlib.image.imsave(os.path.join(path_input, path_image_input), file.pages[j].asarray().astype(np.float32))\n",
    "        "
   ]
  },
  {
   "cell_type": "code",
   "execution_count": 7,
   "metadata": {},
   "outputs": [
    {
     "data": {
      "text/plain": [
       "'NVIDIA GeForce GTX 1660 Ti with Max-Q Design'"
      ]
     },
     "execution_count": 7,
     "metadata": {},
     "output_type": "execute_result"
    }
   ],
   "source": [
    "torch.cuda.device_count()\n",
    "torch.cuda.current_device()\n",
    "torch.cuda.get_device_name(0)"
   ]
  },
  {
   "cell_type": "code",
   "execution_count": null,
   "metadata": {},
   "outputs": [],
   "source": []
  }
 ],
 "metadata": {
  "kernelspec": {
   "display_name": "cnn_pano",
   "language": "python",
   "name": "python3"
  },
  "language_info": {
   "codemirror_mode": {
    "name": "ipython",
    "version": 3
   },
   "file_extension": ".py",
   "mimetype": "text/x-python",
   "name": "python",
   "nbconvert_exporter": "python",
   "pygments_lexer": "ipython3",
   "version": "3.10.8"
  },
  "orig_nbformat": 4,
  "vscode": {
   "interpreter": {
    "hash": "aad772d618d36228fd9f9cbf1974a5c1146643a9a7401f485569cf353c06f143"
   }
  }
 },
 "nbformat": 4,
 "nbformat_minor": 2
}
